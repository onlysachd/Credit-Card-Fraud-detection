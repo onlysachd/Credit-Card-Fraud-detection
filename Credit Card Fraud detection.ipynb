{
 "cells": [
  {
   "cell_type": "code",
   "execution_count": 39,
   "id": "0d143a0b",
   "metadata": {},
   "outputs": [],
   "source": [
    "import numpy as np\n",
    "import pandas as pd\n",
    "import matplotlib.pyplot as  plt\n",
    "import seaborn as sns\n",
    "from pylab import rcParams\n",
    "rcParams['figure.figsize'] = 14, 8\n",
    "from sklearn.model_selection import train_test_split\n",
    "from sklearn.linear_model import LogisticRegression\n",
    "from sklearn.ensemble import RandomForestClassifier\n",
    "from sklearn.metrics import classification_report,accuracy_score\n",
    "from sklearn.svm import SVC\n",
    "from sklearn.metrics import accuracy_score\n"
   ]
  },
  {
   "cell_type": "markdown",
   "id": "f4547c5d",
   "metadata": {},
   "source": [
    "#### About Dataset\n",
    "\n",
    "It is important that credit card companies are able to recognize fraudulent credit card transactions so that customers are not charged for items that they did not purchase.\n",
    "\n",
    "\n",
    "The dataset contains transactions made by credit cards in September 2013 by European cardholders.\n",
    "This dataset presents transactions that occurred in two days, where we have 492 frauds out of 284,807 transactions. The dataset is highly unbalanced, the positive class (frauds) account for 0.172% of all transactions.\n",
    "\n",
    "It contains only numerical input variables which are the result of a PCA transformation. Unfortunately, due to confidentiality issues, we cannot provide the original features and more background information about the data. Features V1, V2, … V28 are the principal components obtained with PCA, the only features which have not been transformed with PCA are 'Time' and 'Amount'. Feature 'Time' contains the seconds elapsed between each transaction and the first transaction in the dataset. The feature 'Amount' is the transaction Amount, this feature can be used for example-dependant cost-sensitive learning. Feature 'Class' is the response variable and it takes value 1 in case of fraud and 0 otherwise.\n",
    "\n"
   ]
  },
  {
   "cell_type": "code",
   "execution_count": 2,
   "id": "5056f623",
   "metadata": {},
   "outputs": [],
   "source": [
    "# Loading the dataset into pandas dataframe\n",
    "df = pd.read_csv('creditcard.csv')"
   ]
  },
  {
   "cell_type": "code",
   "execution_count": 3,
   "id": "d380193a",
   "metadata": {},
   "outputs": [
    {
     "data": {
      "text/html": [
       "<div>\n",
       "<style scoped>\n",
       "    .dataframe tbody tr th:only-of-type {\n",
       "        vertical-align: middle;\n",
       "    }\n",
       "\n",
       "    .dataframe tbody tr th {\n",
       "        vertical-align: top;\n",
       "    }\n",
       "\n",
       "    .dataframe thead th {\n",
       "        text-align: right;\n",
       "    }\n",
       "</style>\n",
       "<table border=\"1\" class=\"dataframe\">\n",
       "  <thead>\n",
       "    <tr style=\"text-align: right;\">\n",
       "      <th></th>\n",
       "      <th>Time</th>\n",
       "      <th>V1</th>\n",
       "      <th>V2</th>\n",
       "      <th>V3</th>\n",
       "      <th>V4</th>\n",
       "      <th>V5</th>\n",
       "      <th>V6</th>\n",
       "      <th>V7</th>\n",
       "      <th>V8</th>\n",
       "      <th>V9</th>\n",
       "      <th>...</th>\n",
       "      <th>V21</th>\n",
       "      <th>V22</th>\n",
       "      <th>V23</th>\n",
       "      <th>V24</th>\n",
       "      <th>V25</th>\n",
       "      <th>V26</th>\n",
       "      <th>V27</th>\n",
       "      <th>V28</th>\n",
       "      <th>Amount</th>\n",
       "      <th>Class</th>\n",
       "    </tr>\n",
       "  </thead>\n",
       "  <tbody>\n",
       "    <tr>\n",
       "      <th>0</th>\n",
       "      <td>0.0</td>\n",
       "      <td>-1.359807</td>\n",
       "      <td>-0.072781</td>\n",
       "      <td>2.536347</td>\n",
       "      <td>1.378155</td>\n",
       "      <td>-0.338321</td>\n",
       "      <td>0.462388</td>\n",
       "      <td>0.239599</td>\n",
       "      <td>0.098698</td>\n",
       "      <td>0.363787</td>\n",
       "      <td>...</td>\n",
       "      <td>-0.018307</td>\n",
       "      <td>0.277838</td>\n",
       "      <td>-0.110474</td>\n",
       "      <td>0.066928</td>\n",
       "      <td>0.128539</td>\n",
       "      <td>-0.189115</td>\n",
       "      <td>0.133558</td>\n",
       "      <td>-0.021053</td>\n",
       "      <td>149.62</td>\n",
       "      <td>0</td>\n",
       "    </tr>\n",
       "    <tr>\n",
       "      <th>1</th>\n",
       "      <td>0.0</td>\n",
       "      <td>1.191857</td>\n",
       "      <td>0.266151</td>\n",
       "      <td>0.166480</td>\n",
       "      <td>0.448154</td>\n",
       "      <td>0.060018</td>\n",
       "      <td>-0.082361</td>\n",
       "      <td>-0.078803</td>\n",
       "      <td>0.085102</td>\n",
       "      <td>-0.255425</td>\n",
       "      <td>...</td>\n",
       "      <td>-0.225775</td>\n",
       "      <td>-0.638672</td>\n",
       "      <td>0.101288</td>\n",
       "      <td>-0.339846</td>\n",
       "      <td>0.167170</td>\n",
       "      <td>0.125895</td>\n",
       "      <td>-0.008983</td>\n",
       "      <td>0.014724</td>\n",
       "      <td>2.69</td>\n",
       "      <td>0</td>\n",
       "    </tr>\n",
       "    <tr>\n",
       "      <th>2</th>\n",
       "      <td>1.0</td>\n",
       "      <td>-1.358354</td>\n",
       "      <td>-1.340163</td>\n",
       "      <td>1.773209</td>\n",
       "      <td>0.379780</td>\n",
       "      <td>-0.503198</td>\n",
       "      <td>1.800499</td>\n",
       "      <td>0.791461</td>\n",
       "      <td>0.247676</td>\n",
       "      <td>-1.514654</td>\n",
       "      <td>...</td>\n",
       "      <td>0.247998</td>\n",
       "      <td>0.771679</td>\n",
       "      <td>0.909412</td>\n",
       "      <td>-0.689281</td>\n",
       "      <td>-0.327642</td>\n",
       "      <td>-0.139097</td>\n",
       "      <td>-0.055353</td>\n",
       "      <td>-0.059752</td>\n",
       "      <td>378.66</td>\n",
       "      <td>0</td>\n",
       "    </tr>\n",
       "    <tr>\n",
       "      <th>3</th>\n",
       "      <td>1.0</td>\n",
       "      <td>-0.966272</td>\n",
       "      <td>-0.185226</td>\n",
       "      <td>1.792993</td>\n",
       "      <td>-0.863291</td>\n",
       "      <td>-0.010309</td>\n",
       "      <td>1.247203</td>\n",
       "      <td>0.237609</td>\n",
       "      <td>0.377436</td>\n",
       "      <td>-1.387024</td>\n",
       "      <td>...</td>\n",
       "      <td>-0.108300</td>\n",
       "      <td>0.005274</td>\n",
       "      <td>-0.190321</td>\n",
       "      <td>-1.175575</td>\n",
       "      <td>0.647376</td>\n",
       "      <td>-0.221929</td>\n",
       "      <td>0.062723</td>\n",
       "      <td>0.061458</td>\n",
       "      <td>123.50</td>\n",
       "      <td>0</td>\n",
       "    </tr>\n",
       "    <tr>\n",
       "      <th>4</th>\n",
       "      <td>2.0</td>\n",
       "      <td>-1.158233</td>\n",
       "      <td>0.877737</td>\n",
       "      <td>1.548718</td>\n",
       "      <td>0.403034</td>\n",
       "      <td>-0.407193</td>\n",
       "      <td>0.095921</td>\n",
       "      <td>0.592941</td>\n",
       "      <td>-0.270533</td>\n",
       "      <td>0.817739</td>\n",
       "      <td>...</td>\n",
       "      <td>-0.009431</td>\n",
       "      <td>0.798278</td>\n",
       "      <td>-0.137458</td>\n",
       "      <td>0.141267</td>\n",
       "      <td>-0.206010</td>\n",
       "      <td>0.502292</td>\n",
       "      <td>0.219422</td>\n",
       "      <td>0.215153</td>\n",
       "      <td>69.99</td>\n",
       "      <td>0</td>\n",
       "    </tr>\n",
       "  </tbody>\n",
       "</table>\n",
       "<p>5 rows × 31 columns</p>\n",
       "</div>"
      ],
      "text/plain": [
       "   Time        V1        V2        V3        V4        V5        V6        V7  \\\n",
       "0   0.0 -1.359807 -0.072781  2.536347  1.378155 -0.338321  0.462388  0.239599   \n",
       "1   0.0  1.191857  0.266151  0.166480  0.448154  0.060018 -0.082361 -0.078803   \n",
       "2   1.0 -1.358354 -1.340163  1.773209  0.379780 -0.503198  1.800499  0.791461   \n",
       "3   1.0 -0.966272 -0.185226  1.792993 -0.863291 -0.010309  1.247203  0.237609   \n",
       "4   2.0 -1.158233  0.877737  1.548718  0.403034 -0.407193  0.095921  0.592941   \n",
       "\n",
       "         V8        V9  ...       V21       V22       V23       V24       V25  \\\n",
       "0  0.098698  0.363787  ... -0.018307  0.277838 -0.110474  0.066928  0.128539   \n",
       "1  0.085102 -0.255425  ... -0.225775 -0.638672  0.101288 -0.339846  0.167170   \n",
       "2  0.247676 -1.514654  ...  0.247998  0.771679  0.909412 -0.689281 -0.327642   \n",
       "3  0.377436 -1.387024  ... -0.108300  0.005274 -0.190321 -1.175575  0.647376   \n",
       "4 -0.270533  0.817739  ... -0.009431  0.798278 -0.137458  0.141267 -0.206010   \n",
       "\n",
       "        V26       V27       V28  Amount  Class  \n",
       "0 -0.189115  0.133558 -0.021053  149.62      0  \n",
       "1  0.125895 -0.008983  0.014724    2.69      0  \n",
       "2 -0.139097 -0.055353 -0.059752  378.66      0  \n",
       "3 -0.221929  0.062723  0.061458  123.50      0  \n",
       "4  0.502292  0.219422  0.215153   69.99      0  \n",
       "\n",
       "[5 rows x 31 columns]"
      ]
     },
     "execution_count": 3,
     "metadata": {},
     "output_type": "execute_result"
    }
   ],
   "source": [
    "df.head()"
   ]
  },
  {
   "cell_type": "markdown",
   "id": "fb328053",
   "metadata": {},
   "source": [
    "# Dataset Information"
   ]
  },
  {
   "cell_type": "code",
   "execution_count": 4,
   "id": "0c80587b",
   "metadata": {},
   "outputs": [
    {
     "name": "stdout",
     "output_type": "stream",
     "text": [
      "<class 'pandas.core.frame.DataFrame'>\n",
      "RangeIndex: 284807 entries, 0 to 284806\n",
      "Data columns (total 31 columns):\n",
      " #   Column  Non-Null Count   Dtype  \n",
      "---  ------  --------------   -----  \n",
      " 0   Time    284807 non-null  float64\n",
      " 1   V1      284807 non-null  float64\n",
      " 2   V2      284807 non-null  float64\n",
      " 3   V3      284807 non-null  float64\n",
      " 4   V4      284807 non-null  float64\n",
      " 5   V5      284807 non-null  float64\n",
      " 6   V6      284807 non-null  float64\n",
      " 7   V7      284807 non-null  float64\n",
      " 8   V8      284807 non-null  float64\n",
      " 9   V9      284807 non-null  float64\n",
      " 10  V10     284807 non-null  float64\n",
      " 11  V11     284807 non-null  float64\n",
      " 12  V12     284807 non-null  float64\n",
      " 13  V13     284807 non-null  float64\n",
      " 14  V14     284807 non-null  float64\n",
      " 15  V15     284807 non-null  float64\n",
      " 16  V16     284807 non-null  float64\n",
      " 17  V17     284807 non-null  float64\n",
      " 18  V18     284807 non-null  float64\n",
      " 19  V19     284807 non-null  float64\n",
      " 20  V20     284807 non-null  float64\n",
      " 21  V21     284807 non-null  float64\n",
      " 22  V22     284807 non-null  float64\n",
      " 23  V23     284807 non-null  float64\n",
      " 24  V24     284807 non-null  float64\n",
      " 25  V25     284807 non-null  float64\n",
      " 26  V26     284807 non-null  float64\n",
      " 27  V27     284807 non-null  float64\n",
      " 28  V28     284807 non-null  float64\n",
      " 29  Amount  284807 non-null  float64\n",
      " 30  Class   284807 non-null  int64  \n",
      "dtypes: float64(30), int64(1)\n",
      "memory usage: 67.4 MB\n"
     ]
    }
   ],
   "source": [
    "df.info()"
   ]
  },
  {
   "cell_type": "markdown",
   "id": "49d1e314",
   "metadata": {},
   "source": [
    "### Checking the no of missing values in each column"
   ]
  },
  {
   "cell_type": "code",
   "execution_count": 5,
   "id": "282e8e90",
   "metadata": {},
   "outputs": [
    {
     "data": {
      "text/plain": [
       "Time      0\n",
       "V1        0\n",
       "V2        0\n",
       "V3        0\n",
       "V4        0\n",
       "V5        0\n",
       "V6        0\n",
       "V7        0\n",
       "V8        0\n",
       "V9        0\n",
       "V10       0\n",
       "V11       0\n",
       "V12       0\n",
       "V13       0\n",
       "V14       0\n",
       "V15       0\n",
       "V16       0\n",
       "V17       0\n",
       "V18       0\n",
       "V19       0\n",
       "V20       0\n",
       "V21       0\n",
       "V22       0\n",
       "V23       0\n",
       "V24       0\n",
       "V25       0\n",
       "V26       0\n",
       "V27       0\n",
       "V28       0\n",
       "Amount    0\n",
       "Class     0\n",
       "dtype: int64"
      ]
     },
     "execution_count": 5,
     "metadata": {},
     "output_type": "execute_result"
    }
   ],
   "source": [
    "df.isnull().sum()"
   ]
  },
  {
   "cell_type": "markdown",
   "id": "1afe6087",
   "metadata": {},
   "source": [
    "# Exploratory Data Analysis\n",
    "\n",
    "### Distribution of Legit and Fraudlent transaction"
   ]
  },
  {
   "cell_type": "code",
   "execution_count": 6,
   "id": "e21b646c",
   "metadata": {},
   "outputs": [
    {
     "data": {
      "text/plain": [
       "0    284315\n",
       "1       492\n",
       "Name: Class, dtype: int64"
      ]
     },
     "execution_count": 6,
     "metadata": {},
     "output_type": "execute_result"
    }
   ],
   "source": [
    "df['Class'].value_counts()"
   ]
  },
  {
   "cell_type": "code",
   "execution_count": 7,
   "id": "1ed2e217",
   "metadata": {},
   "outputs": [],
   "source": [
    "LABELS = [\"Normal\", \"Fraud\"]"
   ]
  },
  {
   "cell_type": "code",
   "execution_count": 8,
   "id": "f04a298e",
   "metadata": {},
   "outputs": [
    {
     "data": {
      "text/plain": [
       "Text(0, 0.5, 'Frequency')"
      ]
     },
     "execution_count": 8,
     "metadata": {},
     "output_type": "execute_result"
    },
    {
     "data": {
      "image/png": "[encoded data removed]",
      "text/plain": [
       "<Figure size 1008x576 with 1 Axes>"
      ]
     },
     "metadata": {
      "needs_background": "light"
     },
     "output_type": "display_data"
    }
   ],
   "source": [
    "count_classes = pd.value_counts(df['Class'], sort = True)\n",
    "\n",
    "count_classes.plot(kind = 'bar', rot=0)\n",
    "\n",
    "plt.title(\"Transaction Class Distribution\")\n",
    "\n",
    "plt.xticks(range(2), LABELS)\n",
    "\n",
    "plt.xlabel(\"Class\")\n",
    "\n",
    "plt.ylabel(\"Frequency\")"
   ]
  },
  {
   "cell_type": "markdown",
   "id": "bc58428b",
   "metadata": {},
   "source": [
    "### Seperating the data for Analysis"
   ]
  },
  {
   "cell_type": "code",
   "execution_count": 9,
   "id": "3afb86ff",
   "metadata": {},
   "outputs": [],
   "source": [
    "legit = df[df.Class==0]\n",
    "fraud = df[df.Class==1]"
   ]
  },
  {
   "cell_type": "code",
   "execution_count": 10,
   "id": "210a3654",
   "metadata": {},
   "outputs": [
    {
     "data": {
      "text/plain": [
       "(284315, 31)"
      ]
     },
     "execution_count": 10,
     "metadata": {},
     "output_type": "execute_result"
    }
   ],
   "source": [
    "legit.shape"
   ]
  },
  {
   "cell_type": "code",
   "execution_count": 11,
   "id": "3d8473b6",
   "metadata": {},
   "outputs": [
    {
     "data": {
      "text/plain": [
       "(492, 31)"
      ]
     },
     "execution_count": 11,
     "metadata": {},
     "output_type": "execute_result"
    }
   ],
   "source": [
    "fraud.shape"
   ]
  },
  {
   "cell_type": "markdown",
   "id": "94005131",
   "metadata": {},
   "source": [
    "### statistical measures of the data"
   ]
  },
  {
   "cell_type": "code",
   "execution_count": 12,
   "id": "e2bd5f2d",
   "metadata": {},
   "outputs": [
    {
     "data": {
      "text/plain": [
       "count    284315.000000\n",
       "mean         88.291022\n",
       "std         250.105092\n",
       "min           0.000000\n",
       "25%           5.650000\n",
       "50%          22.000000\n",
       "75%          77.050000\n",
       "max       25691.160000\n",
       "Name: Amount, dtype: float64"
      ]
     },
     "execution_count": 12,
     "metadata": {},
     "output_type": "execute_result"
    }
   ],
   "source": [
    "legit.Amount.describe()"
   ]
  },
  {
   "cell_type": "code",
   "execution_count": 13,
   "id": "e0a4dc41",
   "metadata": {},
   "outputs": [
    {
     "data": {
      "text/plain": [
       "count     492.000000\n",
       "mean      122.211321\n",
       "std       256.683288\n",
       "min         0.000000\n",
       "25%         1.000000\n",
       "50%         9.250000\n",
       "75%       105.890000\n",
       "max      2125.870000\n",
       "Name: Amount, dtype: float64"
      ]
     },
     "execution_count": 13,
     "metadata": {},
     "output_type": "execute_result"
    }
   ],
   "source": [
    "fraud.Amount.describe()"
   ]
  },
  {
   "cell_type": "code",
   "execution_count": 14,
   "id": "2bb8940d",
   "metadata": {},
   "outputs": [
    {
     "data": {
      "image/png": "[encoded data removed]",
      "text/plain": [
       "<Figure size 1008x576 with 2 Axes>"
      ]
     },
     "metadata": {
      "needs_background": "light"
     },
     "output_type": "display_data"
    }
   ],
   "source": [
    "f, (ax1, ax2) = plt.subplots(2, 1, sharex=True)\n",
    "f.suptitle('Amount per transaction by class')\n",
    "bins = 50\n",
    "ax1.hist(fraud.Amount, bins = bins)\n",
    "ax1.set_title('Fraud')\n",
    "ax2.hist(legit.Amount, bins = bins)\n",
    "ax2.set_title('Legit')\n",
    "plt.xlabel('Amount ($)')\n",
    "plt.ylabel('Number of Transactions')\n",
    "plt.xlim((0, 20000))\n",
    "plt.yscale('log')\n",
    "plt.show();\n"
   ]
  },
  {
   "cell_type": "code",
   "execution_count": 15,
   "id": "bb657203",
   "metadata": {},
   "outputs": [
    {
     "data": {
      "text/html": [
       "<div>\n",
       "<style scoped>\n",
       "    .dataframe tbody tr th:only-of-type {\n",
       "        vertical-align: middle;\n",
       "    }\n",
       "\n",
       "    .dataframe tbody tr th {\n",
       "        vertical-align: top;\n",
       "    }\n",
       "\n",
       "    .dataframe thead th {\n",
       "        text-align: right;\n",
       "    }\n",
       "</style>\n",
       "<table border=\"1\" class=\"dataframe\">\n",
       "  <thead>\n",
       "    <tr style=\"text-align: right;\">\n",
       "      <th></th>\n",
       "      <th>Time</th>\n",
       "      <th>V1</th>\n",
       "      <th>V2</th>\n",
       "      <th>V3</th>\n",
       "      <th>V4</th>\n",
       "      <th>V5</th>\n",
       "      <th>V6</th>\n",
       "      <th>V7</th>\n",
       "      <th>V8</th>\n",
       "      <th>V9</th>\n",
       "      <th>...</th>\n",
       "      <th>V20</th>\n",
       "      <th>V21</th>\n",
       "      <th>V22</th>\n",
       "      <th>V23</th>\n",
       "      <th>V24</th>\n",
       "      <th>V25</th>\n",
       "      <th>V26</th>\n",
       "      <th>V27</th>\n",
       "      <th>V28</th>\n",
       "      <th>Amount</th>\n",
       "    </tr>\n",
       "    <tr>\n",
       "      <th>Class</th>\n",
       "      <th></th>\n",
       "      <th></th>\n",
       "      <th></th>\n",
       "      <th></th>\n",
       "      <th></th>\n",
       "      <th></th>\n",
       "      <th></th>\n",
       "      <th></th>\n",
       "      <th></th>\n",
       "      <th></th>\n",
       "      <th></th>\n",
       "      <th></th>\n",
       "      <th></th>\n",
       "      <th></th>\n",
       "      <th></th>\n",
       "      <th></th>\n",
       "      <th></th>\n",
       "      <th></th>\n",
       "      <th></th>\n",
       "      <th></th>\n",
       "      <th></th>\n",
       "    </tr>\n",
       "  </thead>\n",
       "  <tbody>\n",
       "    <tr>\n",
       "      <th>0</th>\n",
       "      <td>94838.202258</td>\n",
       "      <td>0.008258</td>\n",
       "      <td>-0.006271</td>\n",
       "      <td>0.012171</td>\n",
       "      <td>-0.007860</td>\n",
       "      <td>0.005453</td>\n",
       "      <td>0.002419</td>\n",
       "      <td>0.009637</td>\n",
       "      <td>-0.000987</td>\n",
       "      <td>0.004467</td>\n",
       "      <td>...</td>\n",
       "      <td>-0.000644</td>\n",
       "      <td>-0.001235</td>\n",
       "      <td>-0.000024</td>\n",
       "      <td>0.000070</td>\n",
       "      <td>0.000182</td>\n",
       "      <td>-0.000072</td>\n",
       "      <td>-0.000089</td>\n",
       "      <td>-0.000295</td>\n",
       "      <td>-0.000131</td>\n",
       "      <td>88.291022</td>\n",
       "    </tr>\n",
       "    <tr>\n",
       "      <th>1</th>\n",
       "      <td>80746.806911</td>\n",
       "      <td>-4.771948</td>\n",
       "      <td>3.623778</td>\n",
       "      <td>-7.033281</td>\n",
       "      <td>4.542029</td>\n",
       "      <td>-3.151225</td>\n",
       "      <td>-1.397737</td>\n",
       "      <td>-5.568731</td>\n",
       "      <td>0.570636</td>\n",
       "      <td>-2.581123</td>\n",
       "      <td>...</td>\n",
       "      <td>0.372319</td>\n",
       "      <td>0.713588</td>\n",
       "      <td>0.014049</td>\n",
       "      <td>-0.040308</td>\n",
       "      <td>-0.105130</td>\n",
       "      <td>0.041449</td>\n",
       "      <td>0.051648</td>\n",
       "      <td>0.170575</td>\n",
       "      <td>0.075667</td>\n",
       "      <td>122.211321</td>\n",
       "    </tr>\n",
       "  </tbody>\n",
       "</table>\n",
       "<p>2 rows × 30 columns</p>\n",
       "</div>"
      ],
      "text/plain": [
       "               Time        V1        V2        V3        V4        V5  \\\n",
       "Class                                                                   \n",
       "0      94838.202258  0.008258 -0.006271  0.012171 -0.007860  0.005453   \n",
       "1      80746.806911 -4.771948  3.623778 -7.033281  4.542029 -3.151225   \n",
       "\n",
       "             V6        V7        V8        V9  ...       V20       V21  \\\n",
       "Class                                          ...                       \n",
       "0      0.002419  0.009637 -0.000987  0.004467  ... -0.000644 -0.001235   \n",
       "1     -1.397737 -5.568731  0.570636 -2.581123  ...  0.372319  0.713588   \n",
       "\n",
       "            V22       V23       V24       V25       V26       V27       V28  \\\n",
       "Class                                                                         \n",
       "0     -0.000024  0.000070  0.000182 -0.000072 -0.000089 -0.000295 -0.000131   \n",
       "1      0.014049 -0.040308 -0.105130  0.041449  0.051648  0.170575  0.075667   \n",
       "\n",
       "           Amount  \n",
       "Class              \n",
       "0       88.291022  \n",
       "1      122.211321  \n",
       "\n",
       "[2 rows x 30 columns]"
      ]
     },
     "execution_count": 15,
     "metadata": {},
     "output_type": "execute_result"
    }
   ],
   "source": [
    "df.groupby('Class').mean()"
   ]
  },
  {
   "cell_type": "markdown",
   "id": "c81a6926",
   "metadata": {},
   "source": [
    "### Undersampling\n",
    "\n",
    "### Build a sample dataset containing similar distribution of normal transactions and Fraudulent Transactions\n",
    "\n",
    "#### Number of Fraudulent Transactions --> 492\n",
    "\n"
   ]
  },
  {
   "cell_type": "code",
   "execution_count": 16,
   "id": "64d0e93e",
   "metadata": {},
   "outputs": [],
   "source": [
    "new_legit = legit.sample(n=492)"
   ]
  },
  {
   "cell_type": "code",
   "execution_count": 17,
   "id": "6b0bcbbe",
   "metadata": {},
   "outputs": [
    {
     "data": {
      "text/html": [
       "<div>\n",
       "<style scoped>\n",
       "    .dataframe tbody tr th:only-of-type {\n",
       "        vertical-align: middle;\n",
       "    }\n",
       "\n",
       "    .dataframe tbody tr th {\n",
       "        vertical-align: top;\n",
       "    }\n",
       "\n",
       "    .dataframe thead th {\n",
       "        text-align: right;\n",
       "    }\n",
       "</style>\n",
       "<table border=\"1\" class=\"dataframe\">\n",
       "  <thead>\n",
       "    <tr style=\"text-align: right;\">\n",
       "      <th></th>\n",
       "      <th>Time</th>\n",
       "      <th>V1</th>\n",
       "      <th>V2</th>\n",
       "      <th>V3</th>\n",
       "      <th>V4</th>\n",
       "      <th>V5</th>\n",
       "      <th>V6</th>\n",
       "      <th>V7</th>\n",
       "      <th>V8</th>\n",
       "      <th>V9</th>\n",
       "      <th>...</th>\n",
       "      <th>V21</th>\n",
       "      <th>V22</th>\n",
       "      <th>V23</th>\n",
       "      <th>V24</th>\n",
       "      <th>V25</th>\n",
       "      <th>V26</th>\n",
       "      <th>V27</th>\n",
       "      <th>V28</th>\n",
       "      <th>Amount</th>\n",
       "      <th>Class</th>\n",
       "    </tr>\n",
       "  </thead>\n",
       "  <tbody>\n",
       "    <tr>\n",
       "      <th>235350</th>\n",
       "      <td>148351.0</td>\n",
       "      <td>-0.933214</td>\n",
       "      <td>-0.183960</td>\n",
       "      <td>1.475526</td>\n",
       "      <td>-1.821935</td>\n",
       "      <td>1.829929</td>\n",
       "      <td>4.968612</td>\n",
       "      <td>-0.753672</td>\n",
       "      <td>1.490151</td>\n",
       "      <td>1.122410</td>\n",
       "      <td>...</td>\n",
       "      <td>-0.123996</td>\n",
       "      <td>-0.141233</td>\n",
       "      <td>-0.305431</td>\n",
       "      <td>0.762064</td>\n",
       "      <td>0.491146</td>\n",
       "      <td>0.631473</td>\n",
       "      <td>0.044091</td>\n",
       "      <td>0.050076</td>\n",
       "      <td>25.43</td>\n",
       "      <td>0</td>\n",
       "    </tr>\n",
       "    <tr>\n",
       "      <th>248795</th>\n",
       "      <td>154098.0</td>\n",
       "      <td>-0.042020</td>\n",
       "      <td>0.568480</td>\n",
       "      <td>-0.242780</td>\n",
       "      <td>-0.359222</td>\n",
       "      <td>0.987981</td>\n",
       "      <td>-0.796675</td>\n",
       "      <td>1.072072</td>\n",
       "      <td>-0.226657</td>\n",
       "      <td>0.002090</td>\n",
       "      <td>...</td>\n",
       "      <td>0.323301</td>\n",
       "      <td>1.016791</td>\n",
       "      <td>-0.215285</td>\n",
       "      <td>-0.517616</td>\n",
       "      <td>-0.568730</td>\n",
       "      <td>-0.177345</td>\n",
       "      <td>0.037690</td>\n",
       "      <td>0.007125</td>\n",
       "      <td>37.33</td>\n",
       "      <td>0</td>\n",
       "    </tr>\n",
       "    <tr>\n",
       "      <th>1633</th>\n",
       "      <td>1264.0</td>\n",
       "      <td>-0.442792</td>\n",
       "      <td>0.626260</td>\n",
       "      <td>2.053302</td>\n",
       "      <td>1.181479</td>\n",
       "      <td>-0.556878</td>\n",
       "      <td>-0.236827</td>\n",
       "      <td>0.489551</td>\n",
       "      <td>0.095944</td>\n",
       "      <td>-0.771289</td>\n",
       "      <td>...</td>\n",
       "      <td>-0.000701</td>\n",
       "      <td>-0.296692</td>\n",
       "      <td>0.203856</td>\n",
       "      <td>0.371171</td>\n",
       "      <td>-0.431151</td>\n",
       "      <td>0.744241</td>\n",
       "      <td>-0.061864</td>\n",
       "      <td>0.032084</td>\n",
       "      <td>85.79</td>\n",
       "      <td>0</td>\n",
       "    </tr>\n",
       "    <tr>\n",
       "      <th>252966</th>\n",
       "      <td>156038.0</td>\n",
       "      <td>-6.300523</td>\n",
       "      <td>4.233761</td>\n",
       "      <td>-3.083511</td>\n",
       "      <td>-0.705270</td>\n",
       "      <td>-3.804241</td>\n",
       "      <td>-0.746635</td>\n",
       "      <td>-3.322225</td>\n",
       "      <td>4.591197</td>\n",
       "      <td>0.243027</td>\n",
       "      <td>...</td>\n",
       "      <td>0.381588</td>\n",
       "      <td>0.631573</td>\n",
       "      <td>0.183921</td>\n",
       "      <td>-0.001774</td>\n",
       "      <td>0.531351</td>\n",
       "      <td>0.675954</td>\n",
       "      <td>0.096818</td>\n",
       "      <td>-0.004317</td>\n",
       "      <td>12.90</td>\n",
       "      <td>0</td>\n",
       "    </tr>\n",
       "    <tr>\n",
       "      <th>97610</th>\n",
       "      <td>66296.0</td>\n",
       "      <td>-1.622251</td>\n",
       "      <td>2.257879</td>\n",
       "      <td>0.016618</td>\n",
       "      <td>1.589634</td>\n",
       "      <td>-1.721856</td>\n",
       "      <td>1.773535</td>\n",
       "      <td>-4.245506</td>\n",
       "      <td>-10.519861</td>\n",
       "      <td>-1.268709</td>\n",
       "      <td>...</td>\n",
       "      <td>-5.143928</td>\n",
       "      <td>1.316616</td>\n",
       "      <td>0.222750</td>\n",
       "      <td>0.327744</td>\n",
       "      <td>0.278374</td>\n",
       "      <td>-0.354858</td>\n",
       "      <td>0.149153</td>\n",
       "      <td>0.322394</td>\n",
       "      <td>150.00</td>\n",
       "      <td>0</td>\n",
       "    </tr>\n",
       "    <tr>\n",
       "      <th>...</th>\n",
       "      <td>...</td>\n",
       "      <td>...</td>\n",
       "      <td>...</td>\n",
       "      <td>...</td>\n",
       "      <td>...</td>\n",
       "      <td>...</td>\n",
       "      <td>...</td>\n",
       "      <td>...</td>\n",
       "      <td>...</td>\n",
       "      <td>...</td>\n",
       "      <td>...</td>\n",
       "      <td>...</td>\n",
       "      <td>...</td>\n",
       "      <td>...</td>\n",
       "      <td>...</td>\n",
       "      <td>...</td>\n",
       "      <td>...</td>\n",
       "      <td>...</td>\n",
       "      <td>...</td>\n",
       "      <td>...</td>\n",
       "      <td>...</td>\n",
       "    </tr>\n",
       "    <tr>\n",
       "      <th>111449</th>\n",
       "      <td>72235.0</td>\n",
       "      <td>-0.691845</td>\n",
       "      <td>1.181420</td>\n",
       "      <td>0.376367</td>\n",
       "      <td>0.814933</td>\n",
       "      <td>0.780534</td>\n",
       "      <td>1.319054</td>\n",
       "      <td>0.123975</td>\n",
       "      <td>0.788804</td>\n",
       "      <td>-0.616170</td>\n",
       "      <td>...</td>\n",
       "      <td>-0.049942</td>\n",
       "      <td>0.056650</td>\n",
       "      <td>-0.319763</td>\n",
       "      <td>-1.684882</td>\n",
       "      <td>0.137173</td>\n",
       "      <td>-0.132162</td>\n",
       "      <td>0.298875</td>\n",
       "      <td>0.108435</td>\n",
       "      <td>12.60</td>\n",
       "      <td>0</td>\n",
       "    </tr>\n",
       "    <tr>\n",
       "      <th>172111</th>\n",
       "      <td>120965.0</td>\n",
       "      <td>-1.444127</td>\n",
       "      <td>1.531793</td>\n",
       "      <td>-0.735938</td>\n",
       "      <td>-2.906372</td>\n",
       "      <td>0.805237</td>\n",
       "      <td>-0.268813</td>\n",
       "      <td>0.507336</td>\n",
       "      <td>0.856706</td>\n",
       "      <td>-0.424223</td>\n",
       "      <td>...</td>\n",
       "      <td>-0.239993</td>\n",
       "      <td>-0.843656</td>\n",
       "      <td>-0.122249</td>\n",
       "      <td>-0.320501</td>\n",
       "      <td>0.176895</td>\n",
       "      <td>0.390503</td>\n",
       "      <td>0.081332</td>\n",
       "      <td>0.085753</td>\n",
       "      <td>4.00</td>\n",
       "      <td>0</td>\n",
       "    </tr>\n",
       "    <tr>\n",
       "      <th>273066</th>\n",
       "      <td>165405.0</td>\n",
       "      <td>2.114637</td>\n",
       "      <td>-0.211168</td>\n",
       "      <td>-1.638108</td>\n",
       "      <td>-0.010894</td>\n",
       "      <td>0.490466</td>\n",
       "      <td>-0.130107</td>\n",
       "      <td>-0.015770</td>\n",
       "      <td>-0.042934</td>\n",
       "      <td>0.528540</td>\n",
       "      <td>...</td>\n",
       "      <td>-0.339011</td>\n",
       "      <td>-0.921378</td>\n",
       "      <td>0.170633</td>\n",
       "      <td>-1.413620</td>\n",
       "      <td>-0.180180</td>\n",
       "      <td>0.266670</td>\n",
       "      <td>-0.082983</td>\n",
       "      <td>-0.086125</td>\n",
       "      <td>1.98</td>\n",
       "      <td>0</td>\n",
       "    </tr>\n",
       "    <tr>\n",
       "      <th>147386</th>\n",
       "      <td>88491.0</td>\n",
       "      <td>-0.317218</td>\n",
       "      <td>1.115974</td>\n",
       "      <td>-0.073668</td>\n",
       "      <td>-0.550571</td>\n",
       "      <td>0.139219</td>\n",
       "      <td>-1.073594</td>\n",
       "      <td>0.693343</td>\n",
       "      <td>0.220264</td>\n",
       "      <td>-0.278568</td>\n",
       "      <td>...</td>\n",
       "      <td>-0.202685</td>\n",
       "      <td>-0.526014</td>\n",
       "      <td>0.146392</td>\n",
       "      <td>-0.010862</td>\n",
       "      <td>-0.462895</td>\n",
       "      <td>0.144237</td>\n",
       "      <td>0.124826</td>\n",
       "      <td>0.035393</td>\n",
       "      <td>11.99</td>\n",
       "      <td>0</td>\n",
       "    </tr>\n",
       "    <tr>\n",
       "      <th>211305</th>\n",
       "      <td>138354.0</td>\n",
       "      <td>-0.028822</td>\n",
       "      <td>0.772321</td>\n",
       "      <td>0.345960</td>\n",
       "      <td>-0.668887</td>\n",
       "      <td>0.418151</td>\n",
       "      <td>-0.866758</td>\n",
       "      <td>0.899130</td>\n",
       "      <td>-0.057892</td>\n",
       "      <td>-0.289455</td>\n",
       "      <td>...</td>\n",
       "      <td>-0.199930</td>\n",
       "      <td>-0.454594</td>\n",
       "      <td>0.084419</td>\n",
       "      <td>0.066261</td>\n",
       "      <td>-0.533708</td>\n",
       "      <td>0.115384</td>\n",
       "      <td>0.240333</td>\n",
       "      <td>0.088669</td>\n",
       "      <td>7.14</td>\n",
       "      <td>0</td>\n",
       "    </tr>\n",
       "  </tbody>\n",
       "</table>\n",
       "<p>492 rows × 31 columns</p>\n",
       "</div>"
      ],
      "text/plain": [
       "            Time        V1        V2        V3        V4        V5        V6  \\\n",
       "235350  148351.0 -0.933214 -0.183960  1.475526 -1.821935  1.829929  4.968612   \n",
       "248795  154098.0 -0.042020  0.568480 -0.242780 -0.359222  0.987981 -0.796675   \n",
       "1633      1264.0 -0.442792  0.626260  2.053302  1.181479 -0.556878 -0.236827   \n",
       "252966  156038.0 -6.300523  4.233761 -3.083511 -0.705270 -3.804241 -0.746635   \n",
       "97610    66296.0 -1.622251  2.257879  0.016618  1.589634 -1.721856  1.773535   \n",
       "...          ...       ...       ...       ...       ...       ...       ...   \n",
       "111449   72235.0 -0.691845  1.181420  0.376367  0.814933  0.780534  1.319054   \n",
       "172111  120965.0 -1.444127  1.531793 -0.735938 -2.906372  0.805237 -0.268813   \n",
       "273066  165405.0  2.114637 -0.211168 -1.638108 -0.010894  0.490466 -0.130107   \n",
       "147386   88491.0 -0.317218  1.115974 -0.073668 -0.550571  0.139219 -1.073594   \n",
       "211305  138354.0 -0.028822  0.772321  0.345960 -0.668887  0.418151 -0.866758   \n",
       "\n",
       "              V7         V8        V9  ...       V21       V22       V23  \\\n",
       "235350 -0.753672   1.490151  1.122410  ... -0.123996 -0.141233 -0.305431   \n",
       "248795  1.072072  -0.226657  0.002090  ...  0.323301  1.016791 -0.215285   \n",
       "1633    0.489551   0.095944 -0.771289  ... -0.000701 -0.296692  0.203856   \n",
       "252966 -3.322225   4.591197  0.243027  ...  0.381588  0.631573  0.183921   \n",
       "97610  -4.245506 -10.519861 -1.268709  ... -5.143928  1.316616  0.222750   \n",
       "...          ...        ...       ...  ...       ...       ...       ...   \n",
       "111449  0.123975   0.788804 -0.616170  ... -0.049942  0.056650 -0.319763   \n",
       "172111  0.507336   0.856706 -0.424223  ... -0.239993 -0.843656 -0.122249   \n",
       "273066 -0.015770  -0.042934  0.528540  ... -0.339011 -0.921378  0.170633   \n",
       "147386  0.693343   0.220264 -0.278568  ... -0.202685 -0.526014  0.146392   \n",
       "211305  0.899130  -0.057892 -0.289455  ... -0.199930 -0.454594  0.084419   \n",
       "\n",
       "             V24       V25       V26       V27       V28  Amount  Class  \n",
       "235350  0.762064  0.491146  0.631473  0.044091  0.050076   25.43      0  \n",
       "248795 -0.517616 -0.568730 -0.177345  0.037690  0.007125   37.33      0  \n",
       "1633    0.371171 -0.431151  0.744241 -0.061864  0.032084   85.79      0  \n",
       "252966 -0.001774  0.531351  0.675954  0.096818 -0.004317   12.90      0  \n",
       "97610   0.327744  0.278374 -0.354858  0.149153  0.322394  150.00      0  \n",
       "...          ...       ...       ...       ...       ...     ...    ...  \n",
       "111449 -1.684882  0.137173 -0.132162  0.298875  0.108435   12.60      0  \n",
       "172111 -0.320501  0.176895  0.390503  0.081332  0.085753    4.00      0  \n",
       "273066 -1.413620 -0.180180  0.266670 -0.082983 -0.086125    1.98      0  \n",
       "147386 -0.010862 -0.462895  0.144237  0.124826  0.035393   11.99      0  \n",
       "211305  0.066261 -0.533708  0.115384  0.240333  0.088669    7.14      0  \n",
       "\n",
       "[492 rows x 31 columns]"
      ]
     },
     "execution_count": 17,
     "metadata": {},
     "output_type": "execute_result"
    }
   ],
   "source": [
    "new_legit"
   ]
  },
  {
   "cell_type": "code",
   "execution_count": 18,
   "id": "68495f94",
   "metadata": {},
   "outputs": [],
   "source": [
    "new_df = pd.concat([new_legit,fraud], axis=0)"
   ]
  },
  {
   "cell_type": "code",
   "execution_count": 19,
   "id": "14b6b599",
   "metadata": {},
   "outputs": [
    {
     "data": {
      "text/html": [
       "<div>\n",
       "<style scoped>\n",
       "    .dataframe tbody tr th:only-of-type {\n",
       "        vertical-align: middle;\n",
       "    }\n",
       "\n",
       "    .dataframe tbody tr th {\n",
       "        vertical-align: top;\n",
       "    }\n",
       "\n",
       "    .dataframe thead th {\n",
       "        text-align: right;\n",
       "    }\n",
       "</style>\n",
       "<table border=\"1\" class=\"dataframe\">\n",
       "  <thead>\n",
       "    <tr style=\"text-align: right;\">\n",
       "      <th></th>\n",
       "      <th>Time</th>\n",
       "      <th>V1</th>\n",
       "      <th>V2</th>\n",
       "      <th>V3</th>\n",
       "      <th>V4</th>\n",
       "      <th>V5</th>\n",
       "      <th>V6</th>\n",
       "      <th>V7</th>\n",
       "      <th>V8</th>\n",
       "      <th>V9</th>\n",
       "      <th>...</th>\n",
       "      <th>V21</th>\n",
       "      <th>V22</th>\n",
       "      <th>V23</th>\n",
       "      <th>V24</th>\n",
       "      <th>V25</th>\n",
       "      <th>V26</th>\n",
       "      <th>V27</th>\n",
       "      <th>V28</th>\n",
       "      <th>Amount</th>\n",
       "      <th>Class</th>\n",
       "    </tr>\n",
       "  </thead>\n",
       "  <tbody>\n",
       "    <tr>\n",
       "      <th>157918</th>\n",
       "      <td>110617.0</td>\n",
       "      <td>-1.101035</td>\n",
       "      <td>-1.674928</td>\n",
       "      <td>-0.573388</td>\n",
       "      <td>5.617556</td>\n",
       "      <td>0.765556</td>\n",
       "      <td>0.440607</td>\n",
       "      <td>1.934740</td>\n",
       "      <td>-1.019788</td>\n",
       "      <td>-0.193244</td>\n",
       "      <td>...</td>\n",
       "      <td>-0.412526</td>\n",
       "      <td>-0.208823</td>\n",
       "      <td>0.344833</td>\n",
       "      <td>1.091435</td>\n",
       "      <td>-0.686513</td>\n",
       "      <td>0.075809</td>\n",
       "      <td>0.033865</td>\n",
       "      <td>-0.832855</td>\n",
       "      <td>635.10</td>\n",
       "      <td>1</td>\n",
       "    </tr>\n",
       "    <tr>\n",
       "      <th>18466</th>\n",
       "      <td>29526.0</td>\n",
       "      <td>1.102804</td>\n",
       "      <td>2.829168</td>\n",
       "      <td>-3.932870</td>\n",
       "      <td>4.707691</td>\n",
       "      <td>2.937967</td>\n",
       "      <td>-1.800904</td>\n",
       "      <td>1.672734</td>\n",
       "      <td>-0.300240</td>\n",
       "      <td>-2.783011</td>\n",
       "      <td>...</td>\n",
       "      <td>-0.106994</td>\n",
       "      <td>-0.250050</td>\n",
       "      <td>-0.521627</td>\n",
       "      <td>-0.448950</td>\n",
       "      <td>1.291646</td>\n",
       "      <td>0.516327</td>\n",
       "      <td>0.009146</td>\n",
       "      <td>0.153318</td>\n",
       "      <td>0.68</td>\n",
       "      <td>1</td>\n",
       "    </tr>\n",
       "    <tr>\n",
       "      <th>142557</th>\n",
       "      <td>84789.0</td>\n",
       "      <td>-1.430864</td>\n",
       "      <td>-0.802529</td>\n",
       "      <td>1.123320</td>\n",
       "      <td>0.389760</td>\n",
       "      <td>-0.281214</td>\n",
       "      <td>-0.055123</td>\n",
       "      <td>1.326232</td>\n",
       "      <td>0.195700</td>\n",
       "      <td>-0.546890</td>\n",
       "      <td>...</td>\n",
       "      <td>0.325575</td>\n",
       "      <td>0.014002</td>\n",
       "      <td>0.844946</td>\n",
       "      <td>0.114963</td>\n",
       "      <td>0.156365</td>\n",
       "      <td>-0.619437</td>\n",
       "      <td>-0.120351</td>\n",
       "      <td>0.035594</td>\n",
       "      <td>354.33</td>\n",
       "      <td>1</td>\n",
       "    </tr>\n",
       "    <tr>\n",
       "      <th>46626</th>\n",
       "      <td>42861.0</td>\n",
       "      <td>1.241464</td>\n",
       "      <td>-0.696494</td>\n",
       "      <td>0.805999</td>\n",
       "      <td>-0.797892</td>\n",
       "      <td>-1.064489</td>\n",
       "      <td>-0.045467</td>\n",
       "      <td>-0.902002</td>\n",
       "      <td>0.124246</td>\n",
       "      <td>-0.938736</td>\n",
       "      <td>...</td>\n",
       "      <td>0.188070</td>\n",
       "      <td>0.408451</td>\n",
       "      <td>0.043571</td>\n",
       "      <td>0.047318</td>\n",
       "      <td>0.166891</td>\n",
       "      <td>-0.327605</td>\n",
       "      <td>0.037149</td>\n",
       "      <td>0.019619</td>\n",
       "      <td>41.50</td>\n",
       "      <td>0</td>\n",
       "    </tr>\n",
       "    <tr>\n",
       "      <th>119409</th>\n",
       "      <td>75436.0</td>\n",
       "      <td>-0.834719</td>\n",
       "      <td>0.734127</td>\n",
       "      <td>2.156400</td>\n",
       "      <td>-0.849955</td>\n",
       "      <td>0.168538</td>\n",
       "      <td>0.644313</td>\n",
       "      <td>0.130166</td>\n",
       "      <td>0.362142</td>\n",
       "      <td>-0.014762</td>\n",
       "      <td>...</td>\n",
       "      <td>0.074248</td>\n",
       "      <td>0.408717</td>\n",
       "      <td>-0.530417</td>\n",
       "      <td>-0.770013</td>\n",
       "      <td>0.545690</td>\n",
       "      <td>0.564007</td>\n",
       "      <td>0.266578</td>\n",
       "      <td>0.105330</td>\n",
       "      <td>3.00</td>\n",
       "      <td>0</td>\n",
       "    </tr>\n",
       "    <tr>\n",
       "      <th>123238</th>\n",
       "      <td>76857.0</td>\n",
       "      <td>1.140208</td>\n",
       "      <td>1.156431</td>\n",
       "      <td>-1.471578</td>\n",
       "      <td>2.076278</td>\n",
       "      <td>0.774809</td>\n",
       "      <td>-1.002532</td>\n",
       "      <td>0.264948</td>\n",
       "      <td>0.013162</td>\n",
       "      <td>0.248835</td>\n",
       "      <td>...</td>\n",
       "      <td>-0.387895</td>\n",
       "      <td>-0.866812</td>\n",
       "      <td>-0.121583</td>\n",
       "      <td>-0.356109</td>\n",
       "      <td>0.634573</td>\n",
       "      <td>-0.306311</td>\n",
       "      <td>0.094087</td>\n",
       "      <td>0.121065</td>\n",
       "      <td>1.00</td>\n",
       "      <td>1</td>\n",
       "    </tr>\n",
       "  </tbody>\n",
       "</table>\n",
       "<p>6 rows × 31 columns</p>\n",
       "</div>"
      ],
      "text/plain": [
       "            Time        V1        V2        V3        V4        V5        V6  \\\n",
       "157918  110617.0 -1.101035 -1.674928 -0.573388  5.617556  0.765556  0.440607   \n",
       "18466    29526.0  1.102804  2.829168 -3.932870  4.707691  2.937967 -1.800904   \n",
       "142557   84789.0 -1.430864 -0.802529  1.123320  0.389760 -0.281214 -0.055123   \n",
       "46626    42861.0  1.241464 -0.696494  0.805999 -0.797892 -1.064489 -0.045467   \n",
       "119409   75436.0 -0.834719  0.734127  2.156400 -0.849955  0.168538  0.644313   \n",
       "123238   76857.0  1.140208  1.156431 -1.471578  2.076278  0.774809 -1.002532   \n",
       "\n",
       "              V7        V8        V9  ...       V21       V22       V23  \\\n",
       "157918  1.934740 -1.019788 -0.193244  ... -0.412526 -0.208823  0.344833   \n",
       "18466   1.672734 -0.300240 -2.783011  ... -0.106994 -0.250050 -0.521627   \n",
       "142557  1.326232  0.195700 -0.546890  ...  0.325575  0.014002  0.844946   \n",
       "46626  -0.902002  0.124246 -0.938736  ...  0.188070  0.408451  0.043571   \n",
       "119409  0.130166  0.362142 -0.014762  ...  0.074248  0.408717 -0.530417   \n",
       "123238  0.264948  0.013162  0.248835  ... -0.387895 -0.866812 -0.121583   \n",
       "\n",
       "             V24       V25       V26       V27       V28  Amount  Class  \n",
       "157918  1.091435 -0.686513  0.075809  0.033865 -0.832855  635.10      1  \n",
       "18466  -0.448950  1.291646  0.516327  0.009146  0.153318    0.68      1  \n",
       "142557  0.114963  0.156365 -0.619437 -0.120351  0.035594  354.33      1  \n",
       "46626   0.047318  0.166891 -0.327605  0.037149  0.019619   41.50      0  \n",
       "119409 -0.770013  0.545690  0.564007  0.266578  0.105330    3.00      0  \n",
       "123238 -0.356109  0.634573 -0.306311  0.094087  0.121065    1.00      1  \n",
       "\n",
       "[6 rows x 31 columns]"
      ]
     },
     "execution_count": 19,
     "metadata": {},
     "output_type": "execute_result"
    }
   ],
   "source": [
    "new_df.sample(6)"
   ]
  },
  {
   "cell_type": "code",
   "execution_count": 20,
   "id": "76c19641",
   "metadata": {},
   "outputs": [
    {
     "data": {
      "text/plain": [
       "0    492\n",
       "1    492\n",
       "Name: Class, dtype: int64"
      ]
     },
     "execution_count": 20,
     "metadata": {},
     "output_type": "execute_result"
    }
   ],
   "source": [
    "new_df['Class'].value_counts()"
   ]
  },
  {
   "cell_type": "code",
   "execution_count": 21,
   "id": "9fd7d8a7",
   "metadata": {},
   "outputs": [
    {
     "data": {
      "text/html": [
       "<div>\n",
       "<style scoped>\n",
       "    .dataframe tbody tr th:only-of-type {\n",
       "        vertical-align: middle;\n",
       "    }\n",
       "\n",
       "    .dataframe tbody tr th {\n",
       "        vertical-align: top;\n",
       "    }\n",
       "\n",
       "    .dataframe thead th {\n",
       "        text-align: right;\n",
       "    }\n",
       "</style>\n",
       "<table border=\"1\" class=\"dataframe\">\n",
       "  <thead>\n",
       "    <tr style=\"text-align: right;\">\n",
       "      <th></th>\n",
       "      <th>Time</th>\n",
       "      <th>V1</th>\n",
       "      <th>V2</th>\n",
       "      <th>V3</th>\n",
       "      <th>V4</th>\n",
       "      <th>V5</th>\n",
       "      <th>V6</th>\n",
       "      <th>V7</th>\n",
       "      <th>V8</th>\n",
       "      <th>V9</th>\n",
       "      <th>...</th>\n",
       "      <th>V20</th>\n",
       "      <th>V21</th>\n",
       "      <th>V22</th>\n",
       "      <th>V23</th>\n",
       "      <th>V24</th>\n",
       "      <th>V25</th>\n",
       "      <th>V26</th>\n",
       "      <th>V27</th>\n",
       "      <th>V28</th>\n",
       "      <th>Amount</th>\n",
       "    </tr>\n",
       "    <tr>\n",
       "      <th>Class</th>\n",
       "      <th></th>\n",
       "      <th></th>\n",
       "      <th></th>\n",
       "      <th></th>\n",
       "      <th></th>\n",
       "      <th></th>\n",
       "      <th></th>\n",
       "      <th></th>\n",
       "      <th></th>\n",
       "      <th></th>\n",
       "      <th></th>\n",
       "      <th></th>\n",
       "      <th></th>\n",
       "      <th></th>\n",
       "      <th></th>\n",
       "      <th></th>\n",
       "      <th></th>\n",
       "      <th></th>\n",
       "      <th></th>\n",
       "      <th></th>\n",
       "      <th></th>\n",
       "    </tr>\n",
       "  </thead>\n",
       "  <tbody>\n",
       "    <tr>\n",
       "      <th>0</th>\n",
       "      <td>96962.174797</td>\n",
       "      <td>0.076986</td>\n",
       "      <td>0.026742</td>\n",
       "      <td>-0.017683</td>\n",
       "      <td>-0.068776</td>\n",
       "      <td>0.010614</td>\n",
       "      <td>0.076143</td>\n",
       "      <td>0.080047</td>\n",
       "      <td>0.060215</td>\n",
       "      <td>0.012782</td>\n",
       "      <td>...</td>\n",
       "      <td>0.011344</td>\n",
       "      <td>0.000032</td>\n",
       "      <td>-0.037529</td>\n",
       "      <td>0.008683</td>\n",
       "      <td>0.056579</td>\n",
       "      <td>-0.006059</td>\n",
       "      <td>-0.029458</td>\n",
       "      <td>-0.015412</td>\n",
       "      <td>0.017659</td>\n",
       "      <td>94.403049</td>\n",
       "    </tr>\n",
       "    <tr>\n",
       "      <th>1</th>\n",
       "      <td>80746.806911</td>\n",
       "      <td>-4.771948</td>\n",
       "      <td>3.623778</td>\n",
       "      <td>-7.033281</td>\n",
       "      <td>4.542029</td>\n",
       "      <td>-3.151225</td>\n",
       "      <td>-1.397737</td>\n",
       "      <td>-5.568731</td>\n",
       "      <td>0.570636</td>\n",
       "      <td>-2.581123</td>\n",
       "      <td>...</td>\n",
       "      <td>0.372319</td>\n",
       "      <td>0.713588</td>\n",
       "      <td>0.014049</td>\n",
       "      <td>-0.040308</td>\n",
       "      <td>-0.105130</td>\n",
       "      <td>0.041449</td>\n",
       "      <td>0.051648</td>\n",
       "      <td>0.170575</td>\n",
       "      <td>0.075667</td>\n",
       "      <td>122.211321</td>\n",
       "    </tr>\n",
       "  </tbody>\n",
       "</table>\n",
       "<p>2 rows × 30 columns</p>\n",
       "</div>"
      ],
      "text/plain": [
       "               Time        V1        V2        V3        V4        V5  \\\n",
       "Class                                                                   \n",
       "0      96962.174797  0.076986  0.026742 -0.017683 -0.068776  0.010614   \n",
       "1      80746.806911 -4.771948  3.623778 -7.033281  4.542029 -3.151225   \n",
       "\n",
       "             V6        V7        V8        V9  ...       V20       V21  \\\n",
       "Class                                          ...                       \n",
       "0      0.076143  0.080047  0.060215  0.012782  ...  0.011344  0.000032   \n",
       "1     -1.397737 -5.568731  0.570636 -2.581123  ...  0.372319  0.713588   \n",
       "\n",
       "            V22       V23       V24       V25       V26       V27       V28  \\\n",
       "Class                                                                         \n",
       "0     -0.037529  0.008683  0.056579 -0.006059 -0.029458 -0.015412  0.017659   \n",
       "1      0.014049 -0.040308 -0.105130  0.041449  0.051648  0.170575  0.075667   \n",
       "\n",
       "           Amount  \n",
       "Class              \n",
       "0       94.403049  \n",
       "1      122.211321  \n",
       "\n",
       "[2 rows x 30 columns]"
      ]
     },
     "execution_count": 21,
     "metadata": {},
     "output_type": "execute_result"
    }
   ],
   "source": [
    "new_df.groupby('Class').mean()"
   ]
  },
  {
   "cell_type": "markdown",
   "id": "d2a83744",
   "metadata": {},
   "source": [
    "### Splitting the data into features and targets"
   ]
  },
  {
   "cell_type": "code",
   "execution_count": 22,
   "id": "e61e200a",
   "metadata": {},
   "outputs": [],
   "source": [
    "X = new_df.drop(columns='Class', axis=1)\n",
    "Y = new_df['Class']"
   ]
  },
  {
   "cell_type": "code",
   "execution_count": 23,
   "id": "f1b7c9ee",
   "metadata": {},
   "outputs": [
    {
     "name": "stdout",
     "output_type": "stream",
     "text": [
      "            Time        V1        V2        V3        V4        V5        V6  \\\n",
      "235350  148351.0 -0.933214 -0.183960  1.475526 -1.821935  1.829929  4.968612   \n",
      "248795  154098.0 -0.042020  0.568480 -0.242780 -0.359222  0.987981 -0.796675   \n",
      "1633      1264.0 -0.442792  0.626260  2.053302  1.181479 -0.556878 -0.236827   \n",
      "252966  156038.0 -6.300523  4.233761 -3.083511 -0.705270 -3.804241 -0.746635   \n",
      "97610    66296.0 -1.622251  2.257879  0.016618  1.589634 -1.721856  1.773535   \n",
      "...          ...       ...       ...       ...       ...       ...       ...   \n",
      "279863  169142.0 -1.927883  1.125653 -4.518331  1.749293 -1.566487 -2.010494   \n",
      "280143  169347.0  1.378559  1.289381 -5.004247  1.411850  0.442581 -1.326536   \n",
      "280149  169351.0 -0.676143  1.126366 -2.213700  0.468308 -1.120541 -0.003346   \n",
      "281144  169966.0 -3.113832  0.585864 -5.399730  1.817092 -0.840618 -2.943548   \n",
      "281674  170348.0  1.991976  0.158476 -2.583441  0.408670  1.151147 -0.096695   \n",
      "\n",
      "              V7         V8        V9  ...       V20       V21       V22  \\\n",
      "235350 -0.753672   1.490151  1.122410  ... -0.025933 -0.123996 -0.141233   \n",
      "248795  1.072072  -0.226657  0.002090  ... -0.043737  0.323301  1.016791   \n",
      "1633    0.489551   0.095944 -0.771289  ...  0.099621 -0.000701 -0.296692   \n",
      "252966 -3.322225   4.591197  0.243027  ...  0.001269  0.381588  0.631573   \n",
      "97610  -4.245506 -10.519861 -1.268709  ...  2.400141 -5.143928  1.316616   \n",
      "...          ...        ...       ...  ...       ...       ...       ...   \n",
      "279863 -0.882850   0.697211 -2.064945  ...  1.252967  0.778584 -0.319189   \n",
      "280143 -1.413170   0.248525 -1.127396  ...  0.226138  0.370612  0.028234   \n",
      "280149 -2.234739   1.210158 -0.652250  ...  0.247968  0.751826  0.834108   \n",
      "281144 -2.208002   1.058733 -1.632333  ...  0.306271  0.583276 -0.269209   \n",
      "281674  0.223050  -0.068384  0.577829  ... -0.017652 -0.164350 -0.295135   \n",
      "\n",
      "             V23       V24       V25       V26       V27       V28  Amount  \n",
      "235350 -0.305431  0.762064  0.491146  0.631473  0.044091  0.050076   25.43  \n",
      "248795 -0.215285 -0.517616 -0.568730 -0.177345  0.037690  0.007125   37.33  \n",
      "1633    0.203856  0.371171 -0.431151  0.744241 -0.061864  0.032084   85.79  \n",
      "252966  0.183921 -0.001774  0.531351  0.675954  0.096818 -0.004317   12.90  \n",
      "97610   0.222750  0.327744  0.278374 -0.354858  0.149153  0.322394  150.00  \n",
      "...          ...       ...       ...       ...       ...       ...     ...  \n",
      "279863  0.639419 -0.294885  0.537503  0.788395  0.292680  0.147968  390.00  \n",
      "280143 -0.145640 -0.081049  0.521875  0.739467  0.389152  0.186637    0.76  \n",
      "280149  0.190944  0.032070 -0.739695  0.471111  0.385107  0.194361   77.89  \n",
      "281144 -0.456108 -0.183659 -0.328168  0.606116  0.884876 -0.253700  245.00  \n",
      "281674 -0.072173 -0.450261  0.313267 -0.289617  0.002988 -0.015309   42.53  \n",
      "\n",
      "[984 rows x 30 columns]\n"
     ]
    }
   ],
   "source": [
    "print(X)"
   ]
  },
  {
   "cell_type": "code",
   "execution_count": 24,
   "id": "1d0fd0de",
   "metadata": {},
   "outputs": [
    {
     "name": "stdout",
     "output_type": "stream",
     "text": [
      "235350    0\n",
      "248795    0\n",
      "1633      0\n",
      "252966    0\n",
      "97610     0\n",
      "         ..\n",
      "279863    1\n",
      "280143    1\n",
      "280149    1\n",
      "281144    1\n",
      "281674    1\n",
      "Name: Class, Length: 984, dtype: int64\n"
     ]
    }
   ],
   "source": [
    "print(Y)"
   ]
  },
  {
   "cell_type": "markdown",
   "id": "9d524449",
   "metadata": {},
   "source": [
    "### Splitting the data into Training and Testing set"
   ]
  },
  {
   "cell_type": "code",
   "execution_count": 25,
   "id": "b044db0f",
   "metadata": {},
   "outputs": [],
   "source": [
    "X_train, X_test, Y_train, Y_test = train_test_split(X, Y, test_size=0.2, stratify=Y, random_state=2)"
   ]
  },
  {
   "cell_type": "code",
   "execution_count": 26,
   "id": "481d9da9",
   "metadata": {},
   "outputs": [
    {
     "name": "stdout",
     "output_type": "stream",
     "text": [
      "(984, 30) (787, 30) (197, 30)\n"
     ]
    }
   ],
   "source": [
    "print(X.shape, X_train.shape, X_test.shape)"
   ]
  },
  {
   "cell_type": "markdown",
   "id": "4556d589",
   "metadata": {},
   "source": [
    "## Model Training Using LogisticRegression"
   ]
  },
  {
   "cell_type": "code",
   "execution_count": 27,
   "id": "e9490993",
   "metadata": {},
   "outputs": [],
   "source": [
    "model = LogisticRegression()"
   ]
  },
  {
   "cell_type": "code",
   "execution_count": 28,
   "id": "7bdc6281",
   "metadata": {},
   "outputs": [
    {
     "name": "stderr",
     "output_type": "stream",
     "text": [
      "C:\\Anaconda\\lib\\site-packages\\sklearn\\linear_model\\_logistic.py:763: ConvergenceWarning: lbfgs failed to converge (status=1):\n",
      "STOP: TOTAL NO. of ITERATIONS REACHED LIMIT.\n",
      "\n",
      "Increase the number of iterations (max_iter) or scale the data as shown in:\n",
      "    https://scikit-learn.org/stable/modules/preprocessing.html\n",
      "Please also refer to the documentation for alternative solver options:\n",
      "    https://scikit-learn.org/stable/modules/linear_model.html#logistic-regression\n",
      "  n_iter_i = _check_optimize_result(\n"
     ]
    },
    {
     "data": {
      "text/plain": [
       "LogisticRegression()"
      ]
     },
     "execution_count": 28,
     "metadata": {},
     "output_type": "execute_result"
    }
   ],
   "source": [
    "# training the Logistic Regression Model with Training Data\n",
    "model.fit(X_train, Y_train)"
   ]
  },
  {
   "cell_type": "markdown",
   "id": "8daa1c3e",
   "metadata": {},
   "source": [
    "### Model Evaluation\n",
    "#### Accuracy Score"
   ]
  },
  {
   "cell_type": "code",
   "execution_count": 29,
   "id": "71f83143",
   "metadata": {},
   "outputs": [],
   "source": [
    "# accuracy on training data\n",
    "X_train_prediction = model.predict(X_train)\n",
    "training_data_accuracy = accuracy_score(X_train_prediction, Y_train)"
   ]
  },
  {
   "cell_type": "code",
   "execution_count": 30,
   "id": "c5c2a6f7",
   "metadata": {},
   "outputs": [
    {
     "name": "stdout",
     "output_type": "stream",
     "text": [
      "Accuracy on Training data :  0.9542566709021602\n"
     ]
    }
   ],
   "source": [
    "print('Accuracy on Training data : ', training_data_accuracy)"
   ]
  },
  {
   "cell_type": "code",
   "execution_count": 31,
   "id": "0e9143f4",
   "metadata": {},
   "outputs": [],
   "source": [
    "# accuracy on test data\n",
    "X_test_prediction = model.predict(X_test)\n",
    "test_data_accuracy = accuracy_score(X_test_prediction, Y_test)"
   ]
  },
  {
   "cell_type": "code",
   "execution_count": 32,
   "id": "8e38e7da",
   "metadata": {},
   "outputs": [
    {
     "name": "stdout",
     "output_type": "stream",
     "text": [
      "Accuracy score on Test Data :  0.9441624365482234\n"
     ]
    }
   ],
   "source": [
    "print('Accuracy score on Test Data : ', test_data_accuracy)"
   ]
  },
  {
   "cell_type": "markdown",
   "id": "9bc59173",
   "metadata": {},
   "source": [
    "# Model Training Using RandomForest"
   ]
  },
  {
   "cell_type": "code",
   "execution_count": 33,
   "id": "c60c8f9c",
   "metadata": {},
   "outputs": [],
   "source": [
    "clf = RandomForestClassifier()"
   ]
  },
  {
   "cell_type": "code",
   "execution_count": 34,
   "id": "ba9b13fc",
   "metadata": {},
   "outputs": [
    {
     "data": {
      "text/plain": [
       "RandomForestClassifier()"
      ]
     },
     "execution_count": 34,
     "metadata": {},
     "output_type": "execute_result"
    }
   ],
   "source": [
    "clf.fit(X_train,Y_train)"
   ]
  },
  {
   "cell_type": "markdown",
   "id": "df7d6158",
   "metadata": {},
   "source": [
    "#### Model Evaluation\n",
    "#### Accuracy score"
   ]
  },
  {
   "cell_type": "code",
   "execution_count": 35,
   "id": "f6288a16",
   "metadata": {},
   "outputs": [],
   "source": [
    "# accuracy on training data\n",
    "X_train_prediction = clf.predict(X_train)\n",
    "training_data_accuracy = accuracy_score(X_train_prediction, Y_train)"
   ]
  },
  {
   "cell_type": "code",
   "execution_count": 36,
   "id": "7ec9faf5",
   "metadata": {},
   "outputs": [
    {
     "name": "stdout",
     "output_type": "stream",
     "text": [
      "Accuracy on Training data :  1.0\n"
     ]
    }
   ],
   "source": [
    "print('Accuracy on Training data : ', training_data_accuracy)"
   ]
  },
  {
   "cell_type": "code",
   "execution_count": 46,
   "id": "6d8b7215",
   "metadata": {},
   "outputs": [],
   "source": [
    "# accuracy on test data\n",
    "X_test_prediction = clf.predict(X_test)\n",
    "test_data_accuracy = accuracy_score(X_test_prediction, Y_test)"
   ]
  },
  {
   "cell_type": "code",
   "execution_count": 47,
   "id": "d727ab1f",
   "metadata": {},
   "outputs": [
    {
     "name": "stdout",
     "output_type": "stream",
     "text": [
      "Accuracy score on Test Data :  0.9390862944162437\n"
     ]
    }
   ],
   "source": [
    "print('Accuracy score on Test Data : ', test_data_accuracy)"
   ]
  },
  {
   "cell_type": "markdown",
   "id": "4bfe2a56",
   "metadata": {},
   "source": [
    "# Model Training Using Support Vector Machine"
   ]
  },
  {
   "cell_type": "code",
   "execution_count": 40,
   "id": "a0673e86",
   "metadata": {},
   "outputs": [],
   "source": [
    "svc = SVC()"
   ]
  },
  {
   "cell_type": "code",
   "execution_count": 41,
   "id": "02d1f82e",
   "metadata": {},
   "outputs": [
    {
     "data": {
      "text/plain": [
       "SVC()"
      ]
     },
     "execution_count": 41,
     "metadata": {},
     "output_type": "execute_result"
    }
   ],
   "source": [
    "svc.fit(X_train,Y_train)"
   ]
  },
  {
   "cell_type": "markdown",
   "id": "e013b9eb",
   "metadata": {},
   "source": [
    "#### Model evaluation\n",
    "#### Accuracy Score"
   ]
  },
  {
   "cell_type": "code",
   "execution_count": 42,
   "id": "c560fc01",
   "metadata": {},
   "outputs": [],
   "source": [
    "# accuracy on training data\n",
    "X_train_prediction = svc.predict(X_train)\n",
    "training_data_accuracy = accuracy_score(X_train_prediction, Y_train)"
   ]
  },
  {
   "cell_type": "code",
   "execution_count": 43,
   "id": "e7d2fd7d",
   "metadata": {},
   "outputs": [
    {
     "name": "stdout",
     "output_type": "stream",
     "text": [
      "Accuracy on Training data :  0.5527318932655655\n"
     ]
    }
   ],
   "source": [
    "print('Accuracy on Training data : ', training_data_accuracy)"
   ]
  },
  {
   "cell_type": "code",
   "execution_count": 44,
   "id": "bd3f9ff7",
   "metadata": {},
   "outputs": [],
   "source": [
    "# accuracy on test data\n",
    "X_test_prediction = svc.predict(X_test)\n",
    "test_data_accuracy = accuracy_score(X_test_prediction, Y_test)"
   ]
  },
  {
   "cell_type": "code",
   "execution_count": 45,
   "id": "063d54dc",
   "metadata": {},
   "outputs": [
    {
     "name": "stdout",
     "output_type": "stream",
     "text": [
      "Accuracy score on Test Data :  0.5482233502538071\n"
     ]
    }
   ],
   "source": [
    "print('Accuracy score on Test Data : ', test_data_accuracy)"
   ]
  },
  {
   "cell_type": "code",
   "execution_count": null,
   "id": "85d01be7",
   "metadata": {},
   "outputs": [],
   "source": []
  }
 ],
 "metadata": {
  "kernelspec": {
   "display_name": "Python 3 (ipykernel)",
   "language": "python",
   "name": "python3"
  },
  "language_info": {
   "codemirror_mode": {
    "name": "ipython",
    "version": 3
   },
   "file_extension": ".py",
   "mimetype": "text/x-python",
   "name": "python",
   "nbconvert_exporter": "python",
   "pygments_lexer": "ipython3",
   "version": "3.9.7"
  }
 },
 "nbformat": 4,
 "nbformat_minor": 5
}
